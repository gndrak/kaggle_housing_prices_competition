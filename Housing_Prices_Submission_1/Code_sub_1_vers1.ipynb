{
 "cells": [
  {
   "cell_type": "code",
   "execution_count": 1,
   "id": "9f2d36c8",
   "metadata": {
    "_cell_guid": "b1076dfc-b9ad-4769-8c92-a6c4dae69d19",
    "_uuid": "8f2839f25d086af736a60e9eeb907d3b93b6e0e5",
    "execution": {
     "iopub.execute_input": "2021-09-06T20:35:01.203173Z",
     "iopub.status.busy": "2021-09-06T20:35:01.202096Z",
     "iopub.status.idle": "2021-09-06T20:35:01.214857Z",
     "shell.execute_reply": "2021-09-06T20:35:01.214195Z",
     "shell.execute_reply.started": "2021-09-06T20:25:10.160429Z"
    },
    "papermill": {
     "duration": 0.042333,
     "end_time": "2021-09-06T20:35:01.215027",
     "exception": false,
     "start_time": "2021-09-06T20:35:01.172694",
     "status": "completed"
    },
    "tags": []
   },
   "outputs": [
    {
     "name": "stdout",
     "output_type": "stream",
     "text": [
      "/kaggle/input/house-prices-advanced-regression-techniques/sample_submission.csv\n",
      "/kaggle/input/house-prices-advanced-regression-techniques/data_description.txt\n",
      "/kaggle/input/house-prices-advanced-regression-techniques/train.csv\n",
      "/kaggle/input/house-prices-advanced-regression-techniques/test.csv\n"
     ]
    }
   ],
   "source": [
    "# This Python 3 environment comes with many helpful analytics libraries installed\n",
    "# It is defined by the kaggle/python Docker image: https://github.com/kaggle/docker-python\n",
    "# For example, here's several helpful packages to load\n",
    "\n",
    "import numpy as np # linear algebra\n",
    "import pandas as pd # data processing, CSV file I/O (e.g. pd.read_csv)\n",
    "\n",
    "# Input data files are available in the read-only \"../input/\" directory\n",
    "# For example, running this (by clicking run or pressing Shift+Enter) will list all files under the input directory\n",
    "\n",
    "import os\n",
    "for dirname, _, filenames in os.walk('/kaggle/input'):\n",
    "    for filename in filenames:\n",
    "        print(os.path.join(dirname, filename))\n",
    "\n",
    "# You can write up to 20GB to the current directory (/kaggle/working/) that gets preserved as output when you create a version using \"Save & Run All\" \n",
    "# You can also write temporary files to /kaggle/temp/, but they won't be saved outside of the current session"
   ]
  },
  {
   "cell_type": "code",
   "execution_count": 2,
   "id": "6fd6c066",
   "metadata": {
    "execution": {
     "iopub.execute_input": "2021-09-06T20:35:01.276476Z",
     "iopub.status.busy": "2021-09-06T20:35:01.275757Z",
     "iopub.status.idle": "2021-09-06T20:35:02.577986Z",
     "shell.execute_reply": "2021-09-06T20:35:02.577495Z",
     "shell.execute_reply.started": "2021-09-06T20:25:11.852773Z"
    },
    "papermill": {
     "duration": 1.336699,
     "end_time": "2021-09-06T20:35:02.578134",
     "exception": false,
     "start_time": "2021-09-06T20:35:01.241435",
     "status": "completed"
    },
    "tags": []
   },
   "outputs": [],
   "source": [
    "import matplotlib.pyplot as plt\n",
    "from scipy import stats\n",
    "import seaborn as sns\n",
    "from sklearn.model_selection import train_test_split\n",
    "from sklearn.ensemble import RandomForestClassifier\n",
    "from sklearn.metrics import mean_absolute_error"
   ]
  },
  {
   "cell_type": "code",
   "execution_count": 3,
   "id": "bbe196cc",
   "metadata": {
    "execution": {
     "iopub.execute_input": "2021-09-06T20:35:02.634932Z",
     "iopub.status.busy": "2021-09-06T20:35:02.634360Z",
     "iopub.status.idle": "2021-09-06T20:35:02.704105Z",
     "shell.execute_reply": "2021-09-06T20:35:02.703549Z",
     "shell.execute_reply.started": "2021-09-06T20:25:13.650000Z"
    },
    "papermill": {
     "duration": 0.099694,
     "end_time": "2021-09-06T20:35:02.704277",
     "exception": false,
     "start_time": "2021-09-06T20:35:02.604583",
     "status": "completed"
    },
    "tags": []
   },
   "outputs": [],
   "source": [
    "train = pd.read_csv('../input/house-prices-advanced-regression-techniques/train.csv')\n",
    "test = pd.read_csv('../input/house-prices-advanced-regression-techniques/test.csv')"
   ]
  },
  {
   "cell_type": "code",
   "execution_count": 4,
   "id": "206d1792",
   "metadata": {
    "execution": {
     "iopub.execute_input": "2021-09-06T20:35:02.760434Z",
     "iopub.status.busy": "2021-09-06T20:35:02.759753Z",
     "iopub.status.idle": "2021-09-06T20:35:02.763046Z",
     "shell.execute_reply": "2021-09-06T20:35:02.762488Z",
     "shell.execute_reply.started": "2021-09-06T20:25:14.769007Z"
    },
    "papermill": {
     "duration": 0.033326,
     "end_time": "2021-09-06T20:35:02.763195",
     "exception": false,
     "start_time": "2021-09-06T20:35:02.729869",
     "status": "completed"
    },
    "tags": []
   },
   "outputs": [
    {
     "name": "stdout",
     "output_type": "stream",
     "text": [
      "Train data shape: (1460, 81)\n",
      "Test data shape: (1459, 80)\n"
     ]
    }
   ],
   "source": [
    "print (\"Train data shape:\", train.shape)\n",
    "print (\"Test data shape:\", test.shape)"
   ]
  },
  {
   "cell_type": "code",
   "execution_count": 5,
   "id": "699fea50",
   "metadata": {
    "execution": {
     "iopub.execute_input": "2021-09-06T20:35:02.831657Z",
     "iopub.status.busy": "2021-09-06T20:35:02.831030Z",
     "iopub.status.idle": "2021-09-06T20:35:02.855132Z",
     "shell.execute_reply": "2021-09-06T20:35:02.855624Z",
     "shell.execute_reply.started": "2021-09-06T20:25:17.519669Z"
    },
    "papermill": {
     "duration": 0.066511,
     "end_time": "2021-09-06T20:35:02.855783",
     "exception": false,
     "start_time": "2021-09-06T20:35:02.789272",
     "status": "completed"
    },
    "tags": []
   },
   "outputs": [
    {
     "data": {
      "text/html": [
       "<div>\n",
       "<style scoped>\n",
       "    .dataframe tbody tr th:only-of-type {\n",
       "        vertical-align: middle;\n",
       "    }\n",
       "\n",
       "    .dataframe tbody tr th {\n",
       "        vertical-align: top;\n",
       "    }\n",
       "\n",
       "    .dataframe thead th {\n",
       "        text-align: right;\n",
       "    }\n",
       "</style>\n",
       "<table border=\"1\" class=\"dataframe\">\n",
       "  <thead>\n",
       "    <tr style=\"text-align: right;\">\n",
       "      <th></th>\n",
       "      <th>Id</th>\n",
       "      <th>MSSubClass</th>\n",
       "      <th>MSZoning</th>\n",
       "      <th>LotFrontage</th>\n",
       "      <th>LotArea</th>\n",
       "      <th>Street</th>\n",
       "      <th>Alley</th>\n",
       "      <th>LotShape</th>\n",
       "      <th>LandContour</th>\n",
       "      <th>Utilities</th>\n",
       "      <th>...</th>\n",
       "      <th>PoolArea</th>\n",
       "      <th>PoolQC</th>\n",
       "      <th>Fence</th>\n",
       "      <th>MiscFeature</th>\n",
       "      <th>MiscVal</th>\n",
       "      <th>MoSold</th>\n",
       "      <th>YrSold</th>\n",
       "      <th>SaleType</th>\n",
       "      <th>SaleCondition</th>\n",
       "      <th>SalePrice</th>\n",
       "    </tr>\n",
       "  </thead>\n",
       "  <tbody>\n",
       "    <tr>\n",
       "      <th>0</th>\n",
       "      <td>1</td>\n",
       "      <td>60</td>\n",
       "      <td>RL</td>\n",
       "      <td>65.0</td>\n",
       "      <td>8450</td>\n",
       "      <td>Pave</td>\n",
       "      <td>NaN</td>\n",
       "      <td>Reg</td>\n",
       "      <td>Lvl</td>\n",
       "      <td>AllPub</td>\n",
       "      <td>...</td>\n",
       "      <td>0</td>\n",
       "      <td>NaN</td>\n",
       "      <td>NaN</td>\n",
       "      <td>NaN</td>\n",
       "      <td>0</td>\n",
       "      <td>2</td>\n",
       "      <td>2008</td>\n",
       "      <td>WD</td>\n",
       "      <td>Normal</td>\n",
       "      <td>208500</td>\n",
       "    </tr>\n",
       "    <tr>\n",
       "      <th>1</th>\n",
       "      <td>2</td>\n",
       "      <td>20</td>\n",
       "      <td>RL</td>\n",
       "      <td>80.0</td>\n",
       "      <td>9600</td>\n",
       "      <td>Pave</td>\n",
       "      <td>NaN</td>\n",
       "      <td>Reg</td>\n",
       "      <td>Lvl</td>\n",
       "      <td>AllPub</td>\n",
       "      <td>...</td>\n",
       "      <td>0</td>\n",
       "      <td>NaN</td>\n",
       "      <td>NaN</td>\n",
       "      <td>NaN</td>\n",
       "      <td>0</td>\n",
       "      <td>5</td>\n",
       "      <td>2007</td>\n",
       "      <td>WD</td>\n",
       "      <td>Normal</td>\n",
       "      <td>181500</td>\n",
       "    </tr>\n",
       "    <tr>\n",
       "      <th>2</th>\n",
       "      <td>3</td>\n",
       "      <td>60</td>\n",
       "      <td>RL</td>\n",
       "      <td>68.0</td>\n",
       "      <td>11250</td>\n",
       "      <td>Pave</td>\n",
       "      <td>NaN</td>\n",
       "      <td>IR1</td>\n",
       "      <td>Lvl</td>\n",
       "      <td>AllPub</td>\n",
       "      <td>...</td>\n",
       "      <td>0</td>\n",
       "      <td>NaN</td>\n",
       "      <td>NaN</td>\n",
       "      <td>NaN</td>\n",
       "      <td>0</td>\n",
       "      <td>9</td>\n",
       "      <td>2008</td>\n",
       "      <td>WD</td>\n",
       "      <td>Normal</td>\n",
       "      <td>223500</td>\n",
       "    </tr>\n",
       "    <tr>\n",
       "      <th>3</th>\n",
       "      <td>4</td>\n",
       "      <td>70</td>\n",
       "      <td>RL</td>\n",
       "      <td>60.0</td>\n",
       "      <td>9550</td>\n",
       "      <td>Pave</td>\n",
       "      <td>NaN</td>\n",
       "      <td>IR1</td>\n",
       "      <td>Lvl</td>\n",
       "      <td>AllPub</td>\n",
       "      <td>...</td>\n",
       "      <td>0</td>\n",
       "      <td>NaN</td>\n",
       "      <td>NaN</td>\n",
       "      <td>NaN</td>\n",
       "      <td>0</td>\n",
       "      <td>2</td>\n",
       "      <td>2006</td>\n",
       "      <td>WD</td>\n",
       "      <td>Abnorml</td>\n",
       "      <td>140000</td>\n",
       "    </tr>\n",
       "    <tr>\n",
       "      <th>4</th>\n",
       "      <td>5</td>\n",
       "      <td>60</td>\n",
       "      <td>RL</td>\n",
       "      <td>84.0</td>\n",
       "      <td>14260</td>\n",
       "      <td>Pave</td>\n",
       "      <td>NaN</td>\n",
       "      <td>IR1</td>\n",
       "      <td>Lvl</td>\n",
       "      <td>AllPub</td>\n",
       "      <td>...</td>\n",
       "      <td>0</td>\n",
       "      <td>NaN</td>\n",
       "      <td>NaN</td>\n",
       "      <td>NaN</td>\n",
       "      <td>0</td>\n",
       "      <td>12</td>\n",
       "      <td>2008</td>\n",
       "      <td>WD</td>\n",
       "      <td>Normal</td>\n",
       "      <td>250000</td>\n",
       "    </tr>\n",
       "  </tbody>\n",
       "</table>\n",
       "<p>5 rows × 81 columns</p>\n",
       "</div>"
      ],
      "text/plain": [
       "   Id  MSSubClass MSZoning  LotFrontage  LotArea Street Alley LotShape  \\\n",
       "0   1          60       RL         65.0     8450   Pave   NaN      Reg   \n",
       "1   2          20       RL         80.0     9600   Pave   NaN      Reg   \n",
       "2   3          60       RL         68.0    11250   Pave   NaN      IR1   \n",
       "3   4          70       RL         60.0     9550   Pave   NaN      IR1   \n",
       "4   5          60       RL         84.0    14260   Pave   NaN      IR1   \n",
       "\n",
       "  LandContour Utilities  ... PoolArea PoolQC Fence MiscFeature MiscVal MoSold  \\\n",
       "0         Lvl    AllPub  ...        0    NaN   NaN         NaN       0      2   \n",
       "1         Lvl    AllPub  ...        0    NaN   NaN         NaN       0      5   \n",
       "2         Lvl    AllPub  ...        0    NaN   NaN         NaN       0      9   \n",
       "3         Lvl    AllPub  ...        0    NaN   NaN         NaN       0      2   \n",
       "4         Lvl    AllPub  ...        0    NaN   NaN         NaN       0     12   \n",
       "\n",
       "  YrSold  SaleType  SaleCondition  SalePrice  \n",
       "0   2008        WD         Normal     208500  \n",
       "1   2007        WD         Normal     181500  \n",
       "2   2008        WD         Normal     223500  \n",
       "3   2006        WD        Abnorml     140000  \n",
       "4   2008        WD         Normal     250000  \n",
       "\n",
       "[5 rows x 81 columns]"
      ]
     },
     "execution_count": 5,
     "metadata": {},
     "output_type": "execute_result"
    }
   ],
   "source": [
    "train.head()"
   ]
  },
  {
   "cell_type": "code",
   "execution_count": 6,
   "id": "8a1f930e",
   "metadata": {
    "execution": {
     "iopub.execute_input": "2021-09-06T20:35:02.912111Z",
     "iopub.status.busy": "2021-09-06T20:35:02.911549Z",
     "iopub.status.idle": "2021-09-06T20:35:02.915553Z",
     "shell.execute_reply": "2021-09-06T20:35:02.916021Z",
     "shell.execute_reply.started": "2021-09-06T20:25:21.163675Z"
    },
    "papermill": {
     "duration": 0.033191,
     "end_time": "2021-09-06T20:35:02.916192",
     "exception": false,
     "start_time": "2021-09-06T20:35:02.883001",
     "status": "completed"
    },
    "tags": []
   },
   "outputs": [],
   "source": [
    "plt.style.use(style='ggplot')\n",
    "plt.rcParams['figure.figsize'] = (10, 6)"
   ]
  },
  {
   "cell_type": "code",
   "execution_count": 7,
   "id": "eb36e794",
   "metadata": {
    "execution": {
     "iopub.execute_input": "2021-09-06T20:35:02.971304Z",
     "iopub.status.busy": "2021-09-06T20:35:02.970720Z",
     "iopub.status.idle": "2021-09-06T20:35:02.982059Z",
     "shell.execute_reply": "2021-09-06T20:35:02.982541Z",
     "shell.execute_reply.started": "2021-09-06T20:25:22.140015Z"
    },
    "papermill": {
     "duration": 0.040394,
     "end_time": "2021-09-06T20:35:02.982700",
     "exception": false,
     "start_time": "2021-09-06T20:35:02.942306",
     "status": "completed"
    },
    "tags": []
   },
   "outputs": [
    {
     "data": {
      "text/plain": [
       "count      1460.000000\n",
       "mean     180921.195890\n",
       "std       79442.502883\n",
       "min       34900.000000\n",
       "25%      129975.000000\n",
       "50%      163000.000000\n",
       "75%      214000.000000\n",
       "max      755000.000000\n",
       "Name: SalePrice, dtype: float64"
      ]
     },
     "execution_count": 7,
     "metadata": {},
     "output_type": "execute_result"
    }
   ],
   "source": [
    "train.SalePrice.describe()"
   ]
  },
  {
   "cell_type": "code",
   "execution_count": 8,
   "id": "2d8635cc",
   "metadata": {
    "execution": {
     "iopub.execute_input": "2021-09-06T20:35:03.039003Z",
     "iopub.status.busy": "2021-09-06T20:35:03.038408Z",
     "iopub.status.idle": "2021-09-06T20:35:03.220637Z",
     "shell.execute_reply": "2021-09-06T20:35:03.221490Z",
     "shell.execute_reply.started": "2021-09-06T20:25:23.712997Z"
    },
    "papermill": {
     "duration": 0.212353,
     "end_time": "2021-09-06T20:35:03.221776",
     "exception": false,
     "start_time": "2021-09-06T20:35:03.009423",
     "status": "completed"
    },
    "tags": []
   },
   "outputs": [
    {
     "name": "stdout",
     "output_type": "stream",
     "text": [
      "Skew is: 1.8828757597682129\n"
     ]
    },
    {
     "data": {
      "image/png": "[encoded data removed]",
      "text/plain": [
       "<Figure size 720x432 with 1 Axes>"
      ]
     },
     "metadata": {},
     "output_type": "display_data"
    }
   ],
   "source": [
    "print (\"Skew is:\", train.SalePrice.skew())\n",
    "plt.hist(train.SalePrice, color='blue')\n",
    "plt.show() "
   ]
  },
  {
   "cell_type": "code",
   "execution_count": 9,
   "id": "9fd34c1b",
   "metadata": {
    "execution": {
     "iopub.execute_input": "2021-09-06T20:35:03.292286Z",
     "iopub.status.busy": "2021-09-06T20:35:03.291312Z",
     "iopub.status.idle": "2021-09-06T20:35:03.296716Z",
     "shell.execute_reply": "2021-09-06T20:35:03.297193Z",
     "shell.execute_reply.started": "2021-09-06T20:26:08.902216Z"
    },
    "papermill": {
     "duration": 0.04741,
     "end_time": "2021-09-06T20:35:03.297357",
     "exception": false,
     "start_time": "2021-09-06T20:35:03.249947",
     "status": "completed"
    },
    "tags": []
   },
   "outputs": [
    {
     "data": {
      "text/plain": [
       "0.12133506220520406"
      ]
     },
     "execution_count": 9,
     "metadata": {},
     "output_type": "execute_result"
    }
   ],
   "source": [
    "target = np.log(train.SalePrice)\n",
    "target.skew()"
   ]
  },
  {
   "cell_type": "code",
   "execution_count": 10,
   "id": "36e1e4df",
   "metadata": {
    "execution": {
     "iopub.execute_input": "2021-09-06T20:35:03.400755Z",
     "iopub.status.busy": "2021-09-06T20:35:03.397174Z",
     "iopub.status.idle": "2021-09-06T20:35:03.514951Z",
     "shell.execute_reply": "2021-09-06T20:35:03.514353Z",
     "shell.execute_reply.started": "2021-09-06T20:26:10.610283Z"
    },
    "papermill": {
     "duration": 0.17977,
     "end_time": "2021-09-06T20:35:03.515086",
     "exception": false,
     "start_time": "2021-09-06T20:35:03.335316",
     "status": "completed"
    },
    "tags": []
   },
   "outputs": [
    {
     "name": "stdout",
     "output_type": "stream",
     "text": [
      "Skew is: 0.12133506220520406\n"
     ]
    },
    {
     "data": {
      "image/png": "[encoded data removed]",
      "text/plain": [
       "<Figure size 720x432 with 1 Axes>"
      ]
     },
     "metadata": {},
     "output_type": "display_data"
    }
   ],
   "source": [
    "target = np.log(train.SalePrice)\n",
    "print (\"Skew is:\", target.skew())\n",
    "plt.hist(target, color='blue')\n",
    "plt.show()"
   ]
  },
  {
   "cell_type": "code",
   "execution_count": 11,
   "id": "a7ca8983",
   "metadata": {
    "execution": {
     "iopub.execute_input": "2021-09-06T20:35:03.574650Z",
     "iopub.status.busy": "2021-09-06T20:35:03.573992Z",
     "iopub.status.idle": "2021-09-06T20:35:03.582877Z",
     "shell.execute_reply": "2021-09-06T20:35:03.583330Z",
     "shell.execute_reply.started": "2021-09-06T20:26:12.960584Z"
    },
    "papermill": {
     "duration": 0.040231,
     "end_time": "2021-09-06T20:35:03.583492",
     "exception": false,
     "start_time": "2021-09-06T20:35:03.543261",
     "status": "completed"
    },
    "tags": []
   },
   "outputs": [
    {
     "data": {
      "text/plain": [
       "Id                 int64\n",
       "MSSubClass         int64\n",
       "LotFrontage      float64\n",
       "LotArea            int64\n",
       "OverallQual        int64\n",
       "OverallCond        int64\n",
       "YearBuilt          int64\n",
       "YearRemodAdd       int64\n",
       "MasVnrArea       float64\n",
       "BsmtFinSF1         int64\n",
       "BsmtFinSF2         int64\n",
       "BsmtUnfSF          int64\n",
       "TotalBsmtSF        int64\n",
       "1stFlrSF           int64\n",
       "2ndFlrSF           int64\n",
       "LowQualFinSF       int64\n",
       "GrLivArea          int64\n",
       "BsmtFullBath       int64\n",
       "BsmtHalfBath       int64\n",
       "FullBath           int64\n",
       "HalfBath           int64\n",
       "BedroomAbvGr       int64\n",
       "KitchenAbvGr       int64\n",
       "TotRmsAbvGrd       int64\n",
       "Fireplaces         int64\n",
       "GarageYrBlt      float64\n",
       "GarageCars         int64\n",
       "GarageArea         int64\n",
       "WoodDeckSF         int64\n",
       "OpenPorchSF        int64\n",
       "EnclosedPorch      int64\n",
       "3SsnPorch          int64\n",
       "ScreenPorch        int64\n",
       "PoolArea           int64\n",
       "MiscVal            int64\n",
       "MoSold             int64\n",
       "YrSold             int64\n",
       "SalePrice          int64\n",
       "dtype: object"
      ]
     },
     "execution_count": 11,
     "metadata": {},
     "output_type": "execute_result"
    }
   ],
   "source": [
    "numeric_features = train.select_dtypes(include=[np.number])\n",
    "numeric_features.dtypes"
   ]
  },
  {
   "cell_type": "code",
   "execution_count": 12,
   "id": "e70262d1",
   "metadata": {
    "execution": {
     "iopub.execute_input": "2021-09-06T20:35:03.643704Z",
     "iopub.status.busy": "2021-09-06T20:35:03.643112Z",
     "iopub.status.idle": "2021-09-06T20:35:03.660071Z",
     "shell.execute_reply": "2021-09-06T20:35:03.659588Z",
     "shell.execute_reply.started": "2021-09-06T20:26:15.053357Z"
    },
    "papermill": {
     "duration": 0.048105,
     "end_time": "2021-09-06T20:35:03.660234",
     "exception": false,
     "start_time": "2021-09-06T20:35:03.612129",
     "status": "completed"
    },
    "tags": []
   },
   "outputs": [
    {
     "name": "stdout",
     "output_type": "stream",
     "text": [
      "SalePrice      1.000000\n",
      "OverallQual    0.790982\n",
      "GrLivArea      0.708624\n",
      "GarageCars     0.640409\n",
      "GarageArea     0.623431\n",
      "Name: SalePrice, dtype: float64 \n",
      "\n",
      "YrSold          -0.028923\n",
      "OverallCond     -0.077856\n",
      "MSSubClass      -0.084284\n",
      "EnclosedPorch   -0.128578\n",
      "KitchenAbvGr    -0.135907\n",
      "Name: SalePrice, dtype: float64\n"
     ]
    }
   ],
   "source": [
    "corr = numeric_features.corr()\n",
    "print (corr['SalePrice'].sort_values(ascending=False)[:5], '\\n')\n",
    "print (corr['SalePrice'].sort_values(ascending=False)[-5:])"
   ]
  },
  {
   "cell_type": "code",
   "execution_count": 13,
   "id": "197127e3",
   "metadata": {
    "execution": {
     "iopub.execute_input": "2021-09-06T20:35:03.724723Z",
     "iopub.status.busy": "2021-09-06T20:35:03.724098Z",
     "iopub.status.idle": "2021-09-06T20:35:03.729362Z",
     "shell.execute_reply": "2021-09-06T20:35:03.729799Z",
     "shell.execute_reply.started": "2021-09-06T20:26:16.846890Z"
    },
    "papermill": {
     "duration": 0.04051,
     "end_time": "2021-09-06T20:35:03.729968",
     "exception": false,
     "start_time": "2021-09-06T20:35:03.689458",
     "status": "completed"
    },
    "tags": []
   },
   "outputs": [
    {
     "data": {
      "text/plain": [
       "array([ 7,  6,  8,  5,  9,  4, 10,  3,  1,  2])"
      ]
     },
     "execution_count": 13,
     "metadata": {},
     "output_type": "execute_result"
    }
   ],
   "source": [
    "train.OverallQual.unique()"
   ]
  },
  {
   "cell_type": "code",
   "execution_count": 14,
   "id": "a2437876",
   "metadata": {
    "execution": {
     "iopub.execute_input": "2021-09-06T20:35:03.790967Z",
     "iopub.status.busy": "2021-09-06T20:35:03.790396Z",
     "iopub.status.idle": "2021-09-06T20:35:03.820889Z",
     "shell.execute_reply": "2021-09-06T20:35:03.821466Z",
     "shell.execute_reply.started": "2021-09-06T20:26:18.209097Z"
    },
    "papermill": {
     "duration": 0.062542,
     "end_time": "2021-09-06T20:35:03.821642",
     "exception": false,
     "start_time": "2021-09-06T20:35:03.759100",
     "status": "completed"
    },
    "tags": []
   },
   "outputs": [
    {
     "data": {
      "text/html": [
       "<div>\n",
       "<style scoped>\n",
       "    .dataframe tbody tr th:only-of-type {\n",
       "        vertical-align: middle;\n",
       "    }\n",
       "\n",
       "    .dataframe tbody tr th {\n",
       "        vertical-align: top;\n",
       "    }\n",
       "\n",
       "    .dataframe thead th {\n",
       "        text-align: right;\n",
       "    }\n",
       "</style>\n",
       "<table border=\"1\" class=\"dataframe\">\n",
       "  <thead>\n",
       "    <tr style=\"text-align: right;\">\n",
       "      <th></th>\n",
       "      <th>SalePrice</th>\n",
       "    </tr>\n",
       "    <tr>\n",
       "      <th>OverallQual</th>\n",
       "      <th></th>\n",
       "    </tr>\n",
       "  </thead>\n",
       "  <tbody>\n",
       "    <tr>\n",
       "      <th>1</th>\n",
       "      <td>50150</td>\n",
       "    </tr>\n",
       "    <tr>\n",
       "      <th>2</th>\n",
       "      <td>60000</td>\n",
       "    </tr>\n",
       "    <tr>\n",
       "      <th>3</th>\n",
       "      <td>86250</td>\n",
       "    </tr>\n",
       "    <tr>\n",
       "      <th>4</th>\n",
       "      <td>108000</td>\n",
       "    </tr>\n",
       "    <tr>\n",
       "      <th>5</th>\n",
       "      <td>133000</td>\n",
       "    </tr>\n",
       "    <tr>\n",
       "      <th>6</th>\n",
       "      <td>160000</td>\n",
       "    </tr>\n",
       "    <tr>\n",
       "      <th>7</th>\n",
       "      <td>200141</td>\n",
       "    </tr>\n",
       "    <tr>\n",
       "      <th>8</th>\n",
       "      <td>269750</td>\n",
       "    </tr>\n",
       "    <tr>\n",
       "      <th>9</th>\n",
       "      <td>345000</td>\n",
       "    </tr>\n",
       "    <tr>\n",
       "      <th>10</th>\n",
       "      <td>432390</td>\n",
       "    </tr>\n",
       "  </tbody>\n",
       "</table>\n",
       "</div>"
      ],
      "text/plain": [
       "             SalePrice\n",
       "OverallQual           \n",
       "1                50150\n",
       "2                60000\n",
       "3                86250\n",
       "4               108000\n",
       "5               133000\n",
       "6               160000\n",
       "7               200141\n",
       "8               269750\n",
       "9               345000\n",
       "10              432390"
      ]
     },
     "execution_count": 14,
     "metadata": {},
     "output_type": "execute_result"
    }
   ],
   "source": [
    "quality_pivot = train.pivot_table(index='OverallQual',\n",
    "                  values='SalePrice', aggfunc=np.median)\n",
    "quality_pivot"
   ]
  },
  {
   "cell_type": "code",
   "execution_count": 15,
   "id": "08678b54",
   "metadata": {
    "execution": {
     "iopub.execute_input": "2021-09-06T20:35:03.885477Z",
     "iopub.status.busy": "2021-09-06T20:35:03.884844Z",
     "iopub.status.idle": "2021-09-06T20:35:04.178883Z",
     "shell.execute_reply": "2021-09-06T20:35:04.178440Z",
     "shell.execute_reply.started": "2021-09-06T20:26:20.019862Z"
    },
    "papermill": {
     "duration": 0.327728,
     "end_time": "2021-09-06T20:35:04.179011",
     "exception": false,
     "start_time": "2021-09-06T20:35:03.851283",
     "status": "completed"
    },
    "tags": []
   },
   "outputs": [
    {
     "data": {
      "image/png": "[encoded data removed]",
      "text/plain": [
       "<Figure size 720x432 with 1 Axes>"
      ]
     },
     "metadata": {},
     "output_type": "display_data"
    }
   ],
   "source": [
    "quality_pivot.plot(kind='bar', color='blue')\n",
    "plt.xlabel('Overall Quality')\n",
    "plt.ylabel('Median Sale Price')\n",
    "plt.xticks(rotation=0)\n",
    "plt.show()"
   ]
  },
  {
   "cell_type": "code",
   "execution_count": 16,
   "id": "24ff0bf1",
   "metadata": {
    "execution": {
     "iopub.execute_input": "2021-09-06T20:35:04.244933Z",
     "iopub.status.busy": "2021-09-06T20:35:04.244014Z",
     "iopub.status.idle": "2021-09-06T20:35:04.248118Z",
     "shell.execute_reply": "2021-09-06T20:35:04.247664Z",
     "shell.execute_reply.started": "2021-09-06T20:26:26.275372Z"
    },
    "papermill": {
     "duration": 0.038985,
     "end_time": "2021-09-06T20:35:04.248272",
     "exception": false,
     "start_time": "2021-09-06T20:35:04.209287",
     "status": "completed"
    },
    "tags": []
   },
   "outputs": [],
   "source": [
    "train = train[train['GarageArea'] < 1200]"
   ]
  },
  {
   "cell_type": "code",
   "execution_count": 17,
   "id": "2d55b730",
   "metadata": {
    "execution": {
     "iopub.execute_input": "2021-09-06T20:35:04.317677Z",
     "iopub.status.busy": "2021-09-06T20:35:04.316752Z",
     "iopub.status.idle": "2021-09-06T20:35:04.327070Z",
     "shell.execute_reply": "2021-09-06T20:35:04.326589Z",
     "shell.execute_reply.started": "2021-09-06T20:26:29.767077Z"
    },
    "papermill": {
     "duration": 0.04854,
     "end_time": "2021-09-06T20:35:04.327214",
     "exception": false,
     "start_time": "2021-09-06T20:35:04.278674",
     "status": "completed"
    },
    "tags": []
   },
   "outputs": [
    {
     "data": {
      "text/html": [
       "<div>\n",
       "<style scoped>\n",
       "    .dataframe tbody tr th:only-of-type {\n",
       "        vertical-align: middle;\n",
       "    }\n",
       "\n",
       "    .dataframe tbody tr th {\n",
       "        vertical-align: top;\n",
       "    }\n",
       "\n",
       "    .dataframe thead th {\n",
       "        text-align: right;\n",
       "    }\n",
       "</style>\n",
       "<table border=\"1\" class=\"dataframe\">\n",
       "  <thead>\n",
       "    <tr style=\"text-align: right;\">\n",
       "      <th></th>\n",
       "      <th>Null Count</th>\n",
       "    </tr>\n",
       "    <tr>\n",
       "      <th>Feature</th>\n",
       "      <th></th>\n",
       "    </tr>\n",
       "  </thead>\n",
       "  <tbody>\n",
       "    <tr>\n",
       "      <th>PoolQC</th>\n",
       "      <td>1449</td>\n",
       "    </tr>\n",
       "    <tr>\n",
       "      <th>MiscFeature</th>\n",
       "      <td>1402</td>\n",
       "    </tr>\n",
       "    <tr>\n",
       "      <th>Alley</th>\n",
       "      <td>1364</td>\n",
       "    </tr>\n",
       "    <tr>\n",
       "      <th>Fence</th>\n",
       "      <td>1174</td>\n",
       "    </tr>\n",
       "    <tr>\n",
       "      <th>FireplaceQu</th>\n",
       "      <td>689</td>\n",
       "    </tr>\n",
       "    <tr>\n",
       "      <th>LotFrontage</th>\n",
       "      <td>258</td>\n",
       "    </tr>\n",
       "    <tr>\n",
       "      <th>GarageYrBlt</th>\n",
       "      <td>81</td>\n",
       "    </tr>\n",
       "    <tr>\n",
       "      <th>GarageCond</th>\n",
       "      <td>81</td>\n",
       "    </tr>\n",
       "    <tr>\n",
       "      <th>GarageType</th>\n",
       "      <td>81</td>\n",
       "    </tr>\n",
       "    <tr>\n",
       "      <th>GarageFinish</th>\n",
       "      <td>81</td>\n",
       "    </tr>\n",
       "    <tr>\n",
       "      <th>GarageQual</th>\n",
       "      <td>81</td>\n",
       "    </tr>\n",
       "    <tr>\n",
       "      <th>BsmtFinType2</th>\n",
       "      <td>38</td>\n",
       "    </tr>\n",
       "    <tr>\n",
       "      <th>BsmtExposure</th>\n",
       "      <td>38</td>\n",
       "    </tr>\n",
       "    <tr>\n",
       "      <th>BsmtQual</th>\n",
       "      <td>37</td>\n",
       "    </tr>\n",
       "    <tr>\n",
       "      <th>BsmtCond</th>\n",
       "      <td>37</td>\n",
       "    </tr>\n",
       "    <tr>\n",
       "      <th>BsmtFinType1</th>\n",
       "      <td>37</td>\n",
       "    </tr>\n",
       "    <tr>\n",
       "      <th>MasVnrArea</th>\n",
       "      <td>8</td>\n",
       "    </tr>\n",
       "    <tr>\n",
       "      <th>MasVnrType</th>\n",
       "      <td>8</td>\n",
       "    </tr>\n",
       "    <tr>\n",
       "      <th>Electrical</th>\n",
       "      <td>1</td>\n",
       "    </tr>\n",
       "    <tr>\n",
       "      <th>Id</th>\n",
       "      <td>0</td>\n",
       "    </tr>\n",
       "    <tr>\n",
       "      <th>Functional</th>\n",
       "      <td>0</td>\n",
       "    </tr>\n",
       "    <tr>\n",
       "      <th>Fireplaces</th>\n",
       "      <td>0</td>\n",
       "    </tr>\n",
       "    <tr>\n",
       "      <th>KitchenQual</th>\n",
       "      <td>0</td>\n",
       "    </tr>\n",
       "    <tr>\n",
       "      <th>KitchenAbvGr</th>\n",
       "      <td>0</td>\n",
       "    </tr>\n",
       "    <tr>\n",
       "      <th>BedroomAbvGr</th>\n",
       "      <td>0</td>\n",
       "    </tr>\n",
       "  </tbody>\n",
       "</table>\n",
       "</div>"
      ],
      "text/plain": [
       "              Null Count\n",
       "Feature                 \n",
       "PoolQC              1449\n",
       "MiscFeature         1402\n",
       "Alley               1364\n",
       "Fence               1174\n",
       "FireplaceQu          689\n",
       "LotFrontage          258\n",
       "GarageYrBlt           81\n",
       "GarageCond            81\n",
       "GarageType            81\n",
       "GarageFinish          81\n",
       "GarageQual            81\n",
       "BsmtFinType2          38\n",
       "BsmtExposure          38\n",
       "BsmtQual              37\n",
       "BsmtCond              37\n",
       "BsmtFinType1          37\n",
       "MasVnrArea             8\n",
       "MasVnrType             8\n",
       "Electrical             1\n",
       "Id                     0\n",
       "Functional             0\n",
       "Fireplaces             0\n",
       "KitchenQual            0\n",
       "KitchenAbvGr           0\n",
       "BedroomAbvGr           0"
      ]
     },
     "execution_count": 17,
     "metadata": {},
     "output_type": "execute_result"
    }
   ],
   "source": [
    "nulls = pd.DataFrame(train.isnull().sum().sort_values(ascending=False)[:25])\n",
    "nulls.columns = ['Null Count']\n",
    "nulls.index.name = 'Feature'\n",
    "nulls"
   ]
  },
  {
   "cell_type": "code",
   "execution_count": 18,
   "id": "340f126d",
   "metadata": {
    "execution": {
     "iopub.execute_input": "2021-09-06T20:35:04.393428Z",
     "iopub.status.busy": "2021-09-06T20:35:04.392825Z",
     "iopub.status.idle": "2021-09-06T20:35:04.395403Z",
     "shell.execute_reply": "2021-09-06T20:35:04.395932Z",
     "shell.execute_reply.started": "2021-09-06T20:26:32.700564Z"
    },
    "papermill": {
     "duration": 0.038375,
     "end_time": "2021-09-06T20:35:04.396089",
     "exception": false,
     "start_time": "2021-09-06T20:35:04.357714",
     "status": "completed"
    },
    "tags": []
   },
   "outputs": [
    {
     "name": "stdout",
     "output_type": "stream",
     "text": [
      "Unique values are: [nan 'Shed' 'Gar2' 'Othr' 'TenC']\n"
     ]
    }
   ],
   "source": [
    "print (\"Unique values are:\", train.MiscFeature.unique())"
   ]
  },
  {
   "cell_type": "code",
   "execution_count": 19,
   "id": "715d3b0f",
   "metadata": {
    "execution": {
     "iopub.execute_input": "2021-09-06T20:35:04.473783Z",
     "iopub.status.busy": "2021-09-06T20:35:04.473146Z",
     "iopub.status.idle": "2021-09-06T20:35:04.552888Z",
     "shell.execute_reply": "2021-09-06T20:35:04.552367Z",
     "shell.execute_reply.started": "2021-09-06T20:26:34.080355Z"
    },
    "papermill": {
     "duration": 0.126457,
     "end_time": "2021-09-06T20:35:04.553021",
     "exception": false,
     "start_time": "2021-09-06T20:35:04.426564",
     "status": "completed"
    },
    "tags": []
   },
   "outputs": [
    {
     "data": {
      "text/html": [
       "<div>\n",
       "<style scoped>\n",
       "    .dataframe tbody tr th:only-of-type {\n",
       "        vertical-align: middle;\n",
       "    }\n",
       "\n",
       "    .dataframe tbody tr th {\n",
       "        vertical-align: top;\n",
       "    }\n",
       "\n",
       "    .dataframe thead th {\n",
       "        text-align: right;\n",
       "    }\n",
       "</style>\n",
       "<table border=\"1\" class=\"dataframe\">\n",
       "  <thead>\n",
       "    <tr style=\"text-align: right;\">\n",
       "      <th></th>\n",
       "      <th>MSZoning</th>\n",
       "      <th>Street</th>\n",
       "      <th>Alley</th>\n",
       "      <th>LotShape</th>\n",
       "      <th>LandContour</th>\n",
       "      <th>Utilities</th>\n",
       "      <th>LotConfig</th>\n",
       "      <th>LandSlope</th>\n",
       "      <th>Neighborhood</th>\n",
       "      <th>Condition1</th>\n",
       "      <th>...</th>\n",
       "      <th>GarageType</th>\n",
       "      <th>GarageFinish</th>\n",
       "      <th>GarageQual</th>\n",
       "      <th>GarageCond</th>\n",
       "      <th>PavedDrive</th>\n",
       "      <th>PoolQC</th>\n",
       "      <th>Fence</th>\n",
       "      <th>MiscFeature</th>\n",
       "      <th>SaleType</th>\n",
       "      <th>SaleCondition</th>\n",
       "    </tr>\n",
       "  </thead>\n",
       "  <tbody>\n",
       "    <tr>\n",
       "      <th>count</th>\n",
       "      <td>1455</td>\n",
       "      <td>1455</td>\n",
       "      <td>91</td>\n",
       "      <td>1455</td>\n",
       "      <td>1455</td>\n",
       "      <td>1455</td>\n",
       "      <td>1455</td>\n",
       "      <td>1455</td>\n",
       "      <td>1455</td>\n",
       "      <td>1455</td>\n",
       "      <td>...</td>\n",
       "      <td>1374</td>\n",
       "      <td>1374</td>\n",
       "      <td>1374</td>\n",
       "      <td>1374</td>\n",
       "      <td>1455</td>\n",
       "      <td>6</td>\n",
       "      <td>281</td>\n",
       "      <td>53</td>\n",
       "      <td>1455</td>\n",
       "      <td>1455</td>\n",
       "    </tr>\n",
       "    <tr>\n",
       "      <th>unique</th>\n",
       "      <td>5</td>\n",
       "      <td>2</td>\n",
       "      <td>2</td>\n",
       "      <td>4</td>\n",
       "      <td>4</td>\n",
       "      <td>2</td>\n",
       "      <td>5</td>\n",
       "      <td>3</td>\n",
       "      <td>25</td>\n",
       "      <td>9</td>\n",
       "      <td>...</td>\n",
       "      <td>6</td>\n",
       "      <td>3</td>\n",
       "      <td>5</td>\n",
       "      <td>5</td>\n",
       "      <td>3</td>\n",
       "      <td>3</td>\n",
       "      <td>4</td>\n",
       "      <td>4</td>\n",
       "      <td>9</td>\n",
       "      <td>6</td>\n",
       "    </tr>\n",
       "    <tr>\n",
       "      <th>top</th>\n",
       "      <td>RL</td>\n",
       "      <td>Pave</td>\n",
       "      <td>Grvl</td>\n",
       "      <td>Reg</td>\n",
       "      <td>Lvl</td>\n",
       "      <td>AllPub</td>\n",
       "      <td>Inside</td>\n",
       "      <td>Gtl</td>\n",
       "      <td>NAmes</td>\n",
       "      <td>Norm</td>\n",
       "      <td>...</td>\n",
       "      <td>Attchd</td>\n",
       "      <td>Unf</td>\n",
       "      <td>TA</td>\n",
       "      <td>TA</td>\n",
       "      <td>Y</td>\n",
       "      <td>Ex</td>\n",
       "      <td>MnPrv</td>\n",
       "      <td>Shed</td>\n",
       "      <td>WD</td>\n",
       "      <td>Normal</td>\n",
       "    </tr>\n",
       "    <tr>\n",
       "      <th>freq</th>\n",
       "      <td>1147</td>\n",
       "      <td>1450</td>\n",
       "      <td>50</td>\n",
       "      <td>921</td>\n",
       "      <td>1309</td>\n",
       "      <td>1454</td>\n",
       "      <td>1048</td>\n",
       "      <td>1378</td>\n",
       "      <td>225</td>\n",
       "      <td>1257</td>\n",
       "      <td>...</td>\n",
       "      <td>867</td>\n",
       "      <td>605</td>\n",
       "      <td>1306</td>\n",
       "      <td>1321</td>\n",
       "      <td>1335</td>\n",
       "      <td>2</td>\n",
       "      <td>157</td>\n",
       "      <td>48</td>\n",
       "      <td>1266</td>\n",
       "      <td>1196</td>\n",
       "    </tr>\n",
       "  </tbody>\n",
       "</table>\n",
       "<p>4 rows × 43 columns</p>\n",
       "</div>"
      ],
      "text/plain": [
       "       MSZoning Street Alley LotShape LandContour Utilities LotConfig  \\\n",
       "count      1455   1455    91     1455        1455      1455      1455   \n",
       "unique        5      2     2        4           4         2         5   \n",
       "top          RL   Pave  Grvl      Reg         Lvl    AllPub    Inside   \n",
       "freq       1147   1450    50      921        1309      1454      1048   \n",
       "\n",
       "       LandSlope Neighborhood Condition1  ... GarageType GarageFinish  \\\n",
       "count       1455         1455       1455  ...       1374         1374   \n",
       "unique         3           25          9  ...          6            3   \n",
       "top          Gtl        NAmes       Norm  ...     Attchd          Unf   \n",
       "freq        1378          225       1257  ...        867          605   \n",
       "\n",
       "       GarageQual GarageCond PavedDrive PoolQC  Fence MiscFeature SaleType  \\\n",
       "count        1374       1374       1455      6    281          53     1455   \n",
       "unique          5          5          3      3      4           4        9   \n",
       "top            TA         TA          Y     Ex  MnPrv        Shed       WD   \n",
       "freq         1306       1321       1335      2    157          48     1266   \n",
       "\n",
       "       SaleCondition  \n",
       "count           1455  \n",
       "unique             6  \n",
       "top           Normal  \n",
       "freq            1196  \n",
       "\n",
       "[4 rows x 43 columns]"
      ]
     },
     "execution_count": 19,
     "metadata": {},
     "output_type": "execute_result"
    }
   ],
   "source": [
    "categoricals = train.select_dtypes(exclude=[np.number])\n",
    "categoricals.describe()"
   ]
  },
  {
   "cell_type": "code",
   "execution_count": 20,
   "id": "160e5c3f",
   "metadata": {
    "execution": {
     "iopub.execute_input": "2021-09-06T20:35:04.621608Z",
     "iopub.status.busy": "2021-09-06T20:35:04.621051Z",
     "iopub.status.idle": "2021-09-06T20:35:04.623326Z",
     "shell.execute_reply": "2021-09-06T20:35:04.623837Z",
     "shell.execute_reply.started": "2021-09-06T20:26:35.923811Z"
    },
    "papermill": {
     "duration": 0.039662,
     "end_time": "2021-09-06T20:35:04.623991",
     "exception": false,
     "start_time": "2021-09-06T20:35:04.584329",
     "status": "completed"
    },
    "tags": []
   },
   "outputs": [
    {
     "name": "stdout",
     "output_type": "stream",
     "text": [
      "Original: \n",
      "\n",
      "Pave    1450\n",
      "Grvl       5\n",
      "Name: Street, dtype: int64 \n",
      "\n"
     ]
    }
   ],
   "source": [
    "print (\"Original: \\n\")\n",
    "print (train.Street.value_counts(), \"\\n\")"
   ]
  },
  {
   "cell_type": "code",
   "execution_count": 21,
   "id": "fb231aad",
   "metadata": {
    "execution": {
     "iopub.execute_input": "2021-09-06T20:35:04.692544Z",
     "iopub.status.busy": "2021-09-06T20:35:04.691980Z",
     "iopub.status.idle": "2021-09-06T20:35:04.698490Z",
     "shell.execute_reply": "2021-09-06T20:35:04.699041Z",
     "shell.execute_reply.started": "2021-09-06T20:26:37.564794Z"
    },
    "papermill": {
     "duration": 0.043566,
     "end_time": "2021-09-06T20:35:04.699219",
     "exception": false,
     "start_time": "2021-09-06T20:35:04.655653",
     "status": "completed"
    },
    "tags": []
   },
   "outputs": [],
   "source": [
    "train['enc_street'] = pd.get_dummies(train.Street, drop_first=True)\n",
    "test['enc_street'] = pd.get_dummies(train.Street, drop_first=True)"
   ]
  },
  {
   "cell_type": "code",
   "execution_count": 22,
   "id": "124558a2",
   "metadata": {
    "execution": {
     "iopub.execute_input": "2021-09-06T20:35:04.763991Z",
     "iopub.status.busy": "2021-09-06T20:35:04.763447Z",
     "iopub.status.idle": "2021-09-06T20:35:04.770447Z",
     "shell.execute_reply": "2021-09-06T20:35:04.769982Z",
     "shell.execute_reply.started": "2021-09-06T20:26:38.654280Z"
    },
    "papermill": {
     "duration": 0.040216,
     "end_time": "2021-09-06T20:35:04.770584",
     "exception": false,
     "start_time": "2021-09-06T20:35:04.730368",
     "status": "completed"
    },
    "tags": []
   },
   "outputs": [
    {
     "name": "stdout",
     "output_type": "stream",
     "text": [
      "Encoded: \n",
      "\n",
      "1    1450\n",
      "0       5\n",
      "Name: enc_street, dtype: int64\n"
     ]
    }
   ],
   "source": [
    "print ('Encoded: \\n')\n",
    "print (train.enc_street.value_counts())"
   ]
  },
  {
   "cell_type": "code",
   "execution_count": 23,
   "id": "2a2308a3",
   "metadata": {
    "execution": {
     "iopub.execute_input": "2021-09-06T20:35:04.843550Z",
     "iopub.status.busy": "2021-09-06T20:35:04.842563Z",
     "iopub.status.idle": "2021-09-06T20:35:04.996689Z",
     "shell.execute_reply": "2021-09-06T20:35:04.996170Z",
     "shell.execute_reply.started": "2021-09-06T20:26:40.013214Z"
    },
    "papermill": {
     "duration": 0.193508,
     "end_time": "2021-09-06T20:35:04.996831",
     "exception": false,
     "start_time": "2021-09-06T20:35:04.803323",
     "status": "completed"
    },
    "tags": []
   },
   "outputs": [
    {
     "data": {
      "image/png": "[encoded data removed]",
      "text/plain": [
       "<Figure size 720x432 with 1 Axes>"
      ]
     },
     "metadata": {},
     "output_type": "display_data"
    }
   ],
   "source": [
    "condition_pivot = train.pivot_table(index='SaleCondition', values='SalePrice', aggfunc=np.median)\n",
    "condition_pivot.plot(kind='bar', color='blue')\n",
    "plt.xlabel('Sale Condition')\n",
    "plt.ylabel('Median Sale Price')\n",
    "plt.xticks(rotation=0)\n",
    "plt.show()"
   ]
  },
  {
   "cell_type": "code",
   "execution_count": 24,
   "id": "ca792034",
   "metadata": {
    "execution": {
     "iopub.execute_input": "2021-09-06T20:35:05.072357Z",
     "iopub.status.busy": "2021-09-06T20:35:05.071696Z",
     "iopub.status.idle": "2021-09-06T20:35:05.074773Z",
     "shell.execute_reply": "2021-09-06T20:35:05.074199Z",
     "shell.execute_reply.started": "2021-09-06T20:26:41.990616Z"
    },
    "papermill": {
     "duration": 0.045008,
     "end_time": "2021-09-06T20:35:05.074907",
     "exception": false,
     "start_time": "2021-09-06T20:35:05.029899",
     "status": "completed"
    },
    "tags": []
   },
   "outputs": [],
   "source": [
    "def encode(x):\n",
    " return 1 if x == 'Partial' else 0\n",
    "train['enc_condition'] = train.SaleCondition.apply(encode)\n",
    "test['enc_condition'] = test.SaleCondition.apply(encode)"
   ]
  },
  {
   "cell_type": "code",
   "execution_count": 25,
   "id": "52283a24",
   "metadata": {
    "execution": {
     "iopub.execute_input": "2021-09-06T20:35:05.144648Z",
     "iopub.status.busy": "2021-09-06T20:35:05.143729Z",
     "iopub.status.idle": "2021-09-06T20:35:05.285559Z",
     "shell.execute_reply": "2021-09-06T20:35:05.285067Z",
     "shell.execute_reply.started": "2021-09-06T20:26:44.814393Z"
    },
    "papermill": {
     "duration": 0.177507,
     "end_time": "2021-09-06T20:35:05.285699",
     "exception": false,
     "start_time": "2021-09-06T20:35:05.108192",
     "status": "completed"
    },
    "tags": []
   },
   "outputs": [
    {
     "data": {
      "image/png": "[encoded data removed]",
      "text/plain": [
       "<Figure size 720x432 with 1 Axes>"
      ]
     },
     "metadata": {},
     "output_type": "display_data"
    }
   ],
   "source": [
    "condition_pivot = train.pivot_table(index='enc_condition', values='SalePrice', aggfunc=np.median)\n",
    "condition_pivot.plot(kind='bar', color='blue')\n",
    "plt.xlabel('Encoded Sale Condition')\n",
    "plt.ylabel('Median Sale Price')\n",
    "plt.xticks(rotation=0)\n",
    "plt.show()"
   ]
  },
  {
   "cell_type": "code",
   "execution_count": 26,
   "id": "40a59c3c",
   "metadata": {
    "execution": {
     "iopub.execute_input": "2021-09-06T20:35:05.361919Z",
     "iopub.status.busy": "2021-09-06T20:35:05.359047Z",
     "iopub.status.idle": "2021-09-06T20:35:05.367692Z",
     "shell.execute_reply": "2021-09-06T20:35:05.368250Z",
     "shell.execute_reply.started": "2021-09-06T20:26:46.467248Z"
    },
    "papermill": {
     "duration": 0.04855,
     "end_time": "2021-09-06T20:35:05.368418",
     "exception": false,
     "start_time": "2021-09-06T20:35:05.319868",
     "status": "completed"
    },
    "tags": []
   },
   "outputs": [],
   "source": [
    "data = train.select_dtypes(include=[np.number]).interpolate().dropna()"
   ]
  },
  {
   "cell_type": "code",
   "execution_count": 27,
   "id": "dc8f329a",
   "metadata": {
    "execution": {
     "iopub.execute_input": "2021-09-06T20:35:05.441218Z",
     "iopub.status.busy": "2021-09-06T20:35:05.440613Z",
     "iopub.status.idle": "2021-09-06T20:35:05.444807Z",
     "shell.execute_reply": "2021-09-06T20:35:05.445266Z",
     "shell.execute_reply.started": "2021-09-06T20:26:47.873867Z"
    },
    "papermill": {
     "duration": 0.043245,
     "end_time": "2021-09-06T20:35:05.445426",
     "exception": false,
     "start_time": "2021-09-06T20:35:05.402181",
     "status": "completed"
    },
    "tags": []
   },
   "outputs": [
    {
     "data": {
      "text/plain": [
       "0"
      ]
     },
     "execution_count": 27,
     "metadata": {},
     "output_type": "execute_result"
    }
   ],
   "source": [
    "sum(data.isnull().sum() != 0)"
   ]
  },
  {
   "cell_type": "code",
   "execution_count": 28,
   "id": "886c80af",
   "metadata": {
    "execution": {
     "iopub.execute_input": "2021-09-06T20:35:05.515976Z",
     "iopub.status.busy": "2021-09-06T20:35:05.515381Z",
     "iopub.status.idle": "2021-09-06T20:35:05.521760Z",
     "shell.execute_reply": "2021-09-06T20:35:05.521110Z",
     "shell.execute_reply.started": "2021-09-06T20:26:49.443150Z"
    },
    "papermill": {
     "duration": 0.042551,
     "end_time": "2021-09-06T20:35:05.521895",
     "exception": false,
     "start_time": "2021-09-06T20:35:05.479344",
     "status": "completed"
    },
    "tags": []
   },
   "outputs": [],
   "source": [
    "y = np.log(train.SalePrice)\n",
    "X = data.drop(['SalePrice', 'Id'], axis=1)"
   ]
  },
  {
   "cell_type": "code",
   "execution_count": 29,
   "id": "3fe54ea4",
   "metadata": {
    "execution": {
     "iopub.execute_input": "2021-09-06T20:35:05.597438Z",
     "iopub.status.busy": "2021-09-06T20:35:05.596674Z",
     "iopub.status.idle": "2021-09-06T20:35:05.599718Z",
     "shell.execute_reply": "2021-09-06T20:35:05.600120Z",
     "shell.execute_reply.started": "2021-09-06T20:27:02.704674Z"
    },
    "papermill": {
     "duration": 0.04406,
     "end_time": "2021-09-06T20:35:05.600325",
     "exception": false,
     "start_time": "2021-09-06T20:35:05.556265",
     "status": "completed"
    },
    "tags": []
   },
   "outputs": [],
   "source": [
    "from sklearn.model_selection import train_test_split\n",
    "X_train, X_test, y_train, y_test = train_test_split(\n",
    "                          X, y, random_state=42, test_size=.33)"
   ]
  },
  {
   "cell_type": "code",
   "execution_count": 30,
   "id": "9b85ff04",
   "metadata": {
    "execution": {
     "iopub.execute_input": "2021-09-06T20:35:05.673213Z",
     "iopub.status.busy": "2021-09-06T20:35:05.672447Z",
     "iopub.status.idle": "2021-09-06T20:35:05.675391Z",
     "shell.execute_reply": "2021-09-06T20:35:05.674903Z",
     "shell.execute_reply.started": "2021-09-06T20:27:08.730527Z"
    },
    "papermill": {
     "duration": 0.041091,
     "end_time": "2021-09-06T20:35:05.675522",
     "exception": false,
     "start_time": "2021-09-06T20:35:05.634431",
     "status": "completed"
    },
    "tags": []
   },
   "outputs": [],
   "source": [
    "from sklearn import linear_model\n",
    "lr = linear_model.LinearRegression()"
   ]
  },
  {
   "cell_type": "code",
   "execution_count": 31,
   "id": "d775fb1a",
   "metadata": {
    "execution": {
     "iopub.execute_input": "2021-09-06T20:35:05.750040Z",
     "iopub.status.busy": "2021-09-06T20:35:05.749403Z",
     "iopub.status.idle": "2021-09-06T20:35:05.924993Z",
     "shell.execute_reply": "2021-09-06T20:35:05.924515Z",
     "shell.execute_reply.started": "2021-09-06T20:27:14.472766Z"
    },
    "papermill": {
     "duration": 0.215291,
     "end_time": "2021-09-06T20:35:05.925132",
     "exception": false,
     "start_time": "2021-09-06T20:35:05.709841",
     "status": "completed"
    },
    "tags": []
   },
   "outputs": [],
   "source": [
    "model = lr.fit(X_train, y_train)"
   ]
  },
  {
   "cell_type": "code",
   "execution_count": 32,
   "id": "99e92157",
   "metadata": {
    "execution": {
     "iopub.execute_input": "2021-09-06T20:35:05.996362Z",
     "iopub.status.busy": "2021-09-06T20:35:05.995784Z",
     "iopub.status.idle": "2021-09-06T20:35:06.007506Z",
     "shell.execute_reply": "2021-09-06T20:35:06.008197Z",
     "shell.execute_reply.started": "2021-09-06T20:27:21.073142Z"
    },
    "papermill": {
     "duration": 0.049036,
     "end_time": "2021-09-06T20:35:06.008448",
     "exception": false,
     "start_time": "2021-09-06T20:35:05.959412",
     "status": "completed"
    },
    "tags": []
   },
   "outputs": [
    {
     "name": "stdout",
     "output_type": "stream",
     "text": [
      "R^2 is: \n",
      " 0.8882477709262545\n"
     ]
    }
   ],
   "source": [
    "print (\"R^2 is: \\n\", model.score(X_test, y_test))"
   ]
  },
  {
   "cell_type": "code",
   "execution_count": 33,
   "id": "4d01f46d",
   "metadata": {
    "execution": {
     "iopub.execute_input": "2021-09-06T20:35:06.139551Z",
     "iopub.status.busy": "2021-09-06T20:35:06.138631Z",
     "iopub.status.idle": "2021-09-06T20:35:06.141686Z",
     "shell.execute_reply": "2021-09-06T20:35:06.142854Z",
     "shell.execute_reply.started": "2021-09-06T20:27:27.866862Z"
    },
    "papermill": {
     "duration": 0.069921,
     "end_time": "2021-09-06T20:35:06.143147",
     "exception": false,
     "start_time": "2021-09-06T20:35:06.073226",
     "status": "completed"
    },
    "tags": []
   },
   "outputs": [],
   "source": [
    "predictions = model.predict(X_test)"
   ]
  },
  {
   "cell_type": "code",
   "execution_count": 34,
   "id": "b2eaa46e",
   "metadata": {
    "execution": {
     "iopub.execute_input": "2021-09-06T20:35:06.278454Z",
     "iopub.status.busy": "2021-09-06T20:35:06.277835Z",
     "iopub.status.idle": "2021-09-06T20:35:06.281008Z",
     "shell.execute_reply": "2021-09-06T20:35:06.280446Z",
     "shell.execute_reply.started": "2021-09-06T20:27:34.509082Z"
    },
    "papermill": {
     "duration": 0.062929,
     "end_time": "2021-09-06T20:35:06.281135",
     "exception": false,
     "start_time": "2021-09-06T20:35:06.218206",
     "status": "completed"
    },
    "tags": []
   },
   "outputs": [
    {
     "name": "stdout",
     "output_type": "stream",
     "text": [
      "RMSE is: \n",
      " 0.017841794519567696\n"
     ]
    }
   ],
   "source": [
    "from sklearn.metrics import mean_squared_error\n",
    "print ('RMSE is: \\n', mean_squared_error(y_test, predictions))"
   ]
  },
  {
   "cell_type": "code",
   "execution_count": 35,
   "id": "29c6d9af",
   "metadata": {
    "execution": {
     "iopub.execute_input": "2021-09-06T20:35:06.375139Z",
     "iopub.status.busy": "2021-09-06T20:35:06.374437Z",
     "iopub.status.idle": "2021-09-06T20:35:06.515354Z",
     "shell.execute_reply": "2021-09-06T20:35:06.515811Z",
     "shell.execute_reply.started": "2021-09-06T20:29:02.141810Z"
    },
    "papermill": {
     "duration": 0.200235,
     "end_time": "2021-09-06T20:35:06.515972",
     "exception": false,
     "start_time": "2021-09-06T20:35:06.315737",
     "status": "completed"
    },
    "tags": []
   },
   "outputs": [
    {
     "data": {
      "image/png": "[encoded data removed]",
      "text/plain": [
       "<Figure size 720x432 with 1 Axes>"
      ]
     },
     "metadata": {},
     "output_type": "display_data"
    }
   ],
   "source": [
    "actual_values = y_test\n",
    "plt.scatter(predictions, actual_values, alpha=.7,\n",
    "            color='b') #alpha helps to show overlapping data\n",
    "plt.xlabel('Predicted Price')\n",
    "plt.ylabel('Actual Price')\n",
    "plt.title('Linear Regression Model')\n",
    "plt.show()"
   ]
  },
  {
   "cell_type": "code",
   "execution_count": 36,
   "id": "0eb98e74",
   "metadata": {
    "execution": {
     "iopub.execute_input": "2021-09-06T20:35:06.590613Z",
     "iopub.status.busy": "2021-09-06T20:35:06.589712Z",
     "iopub.status.idle": "2021-09-06T20:35:06.595229Z",
     "shell.execute_reply": "2021-09-06T20:35:06.595775Z",
     "shell.execute_reply.started": "2021-09-06T20:30:31.355048Z"
    },
    "papermill": {
     "duration": 0.044422,
     "end_time": "2021-09-06T20:35:06.595928",
     "exception": false,
     "start_time": "2021-09-06T20:35:06.551506",
     "status": "completed"
    },
    "tags": []
   },
   "outputs": [],
   "source": [
    "try1 = pd.DataFrame()\n",
    "try1['Id'] = test.Id"
   ]
  },
  {
   "cell_type": "code",
   "execution_count": 37,
   "id": "1c28c7b5",
   "metadata": {
    "execution": {
     "iopub.execute_input": "2021-09-06T20:35:06.670510Z",
     "iopub.status.busy": "2021-09-06T20:35:06.669575Z",
     "iopub.status.idle": "2021-09-06T20:35:06.679477Z",
     "shell.execute_reply": "2021-09-06T20:35:06.679934Z",
     "shell.execute_reply.started": "2021-09-06T20:30:39.980566Z"
    },
    "papermill": {
     "duration": 0.048675,
     "end_time": "2021-09-06T20:35:06.680093",
     "exception": false,
     "start_time": "2021-09-06T20:35:06.631418",
     "status": "completed"
    },
    "tags": []
   },
   "outputs": [],
   "source": [
    "feats = test.select_dtypes(\n",
    "        include=[np.number]).drop(['Id'], axis=1).interpolate()"
   ]
  },
  {
   "cell_type": "code",
   "execution_count": 38,
   "id": "4a473aa6",
   "metadata": {
    "execution": {
     "iopub.execute_input": "2021-09-06T20:35:06.754663Z",
     "iopub.status.busy": "2021-09-06T20:35:06.753779Z",
     "iopub.status.idle": "2021-09-06T20:35:06.769439Z",
     "shell.execute_reply": "2021-09-06T20:35:06.770132Z",
     "shell.execute_reply.started": "2021-09-06T20:30:46.445095Z"
    },
    "papermill": {
     "duration": 0.054803,
     "end_time": "2021-09-06T20:35:06.770427",
     "exception": false,
     "start_time": "2021-09-06T20:35:06.715624",
     "status": "completed"
    },
    "tags": []
   },
   "outputs": [],
   "source": [
    "predictions = model.predict(feats)"
   ]
  },
  {
   "cell_type": "code",
   "execution_count": 39,
   "id": "4981d466",
   "metadata": {
    "execution": {
     "iopub.execute_input": "2021-09-06T20:35:06.898197Z",
     "iopub.status.busy": "2021-09-06T20:35:06.897249Z",
     "iopub.status.idle": "2021-09-06T20:35:06.899894Z",
     "shell.execute_reply": "2021-09-06T20:35:06.899368Z",
     "shell.execute_reply.started": "2021-09-06T20:31:12.152203Z"
    },
    "papermill": {
     "duration": 0.061874,
     "end_time": "2021-09-06T20:35:06.900019",
     "exception": false,
     "start_time": "2021-09-06T20:35:06.838145",
     "status": "completed"
    },
    "tags": []
   },
   "outputs": [],
   "source": [
    "final_predictions = np.exp(predictions)"
   ]
  },
  {
   "cell_type": "code",
   "execution_count": 40,
   "id": "5921848f",
   "metadata": {
    "execution": {
     "iopub.execute_input": "2021-09-06T20:35:06.975700Z",
     "iopub.status.busy": "2021-09-06T20:35:06.974820Z",
     "iopub.status.idle": "2021-09-06T20:35:06.981779Z",
     "shell.execute_reply": "2021-09-06T20:35:06.981322Z",
     "shell.execute_reply.started": "2021-09-06T20:31:30.149573Z"
    },
    "papermill": {
     "duration": 0.045496,
     "end_time": "2021-09-06T20:35:06.981903",
     "exception": false,
     "start_time": "2021-09-06T20:35:06.936407",
     "status": "completed"
    },
    "tags": []
   },
   "outputs": [
    {
     "name": "stdout",
     "output_type": "stream",
     "text": [
      "Original predictions are: \n",
      " [11.76725362 11.71929504 12.07656074 12.20632678 12.11217655] \n",
      "\n",
      "Final predictions are: \n",
      " [128959.49172586 122920.74024359 175704.82598102 200050.83263756\n",
      " 182075.46986405]\n"
     ]
    }
   ],
   "source": [
    "print (\"Original predictions are: \\n\", predictions[:5], \"\\n\")\n",
    "print (\"Final predictions are: \\n\", final_predictions[:5])"
   ]
  },
  {
   "cell_type": "code",
   "execution_count": 41,
   "id": "6f6d1cea",
   "metadata": {
    "execution": {
     "iopub.execute_input": "2021-09-06T20:35:07.063959Z",
     "iopub.status.busy": "2021-09-06T20:35:07.063357Z",
     "iopub.status.idle": "2021-09-06T20:35:07.065900Z",
     "shell.execute_reply": "2021-09-06T20:35:07.066353Z",
     "shell.execute_reply.started": "2021-09-06T20:32:05.865120Z"
    },
    "papermill": {
     "duration": 0.049246,
     "end_time": "2021-09-06T20:35:07.066519",
     "exception": false,
     "start_time": "2021-09-06T20:35:07.017273",
     "status": "completed"
    },
    "tags": []
   },
   "outputs": [
    {
     "data": {
      "text/html": [
       "<div>\n",
       "<style scoped>\n",
       "    .dataframe tbody tr th:only-of-type {\n",
       "        vertical-align: middle;\n",
       "    }\n",
       "\n",
       "    .dataframe tbody tr th {\n",
       "        vertical-align: top;\n",
       "    }\n",
       "\n",
       "    .dataframe thead th {\n",
       "        text-align: right;\n",
       "    }\n",
       "</style>\n",
       "<table border=\"1\" class=\"dataframe\">\n",
       "  <thead>\n",
       "    <tr style=\"text-align: right;\">\n",
       "      <th></th>\n",
       "      <th>Id</th>\n",
       "      <th>SalePrice</th>\n",
       "    </tr>\n",
       "  </thead>\n",
       "  <tbody>\n",
       "    <tr>\n",
       "      <th>0</th>\n",
       "      <td>1461</td>\n",
       "      <td>128959.491726</td>\n",
       "    </tr>\n",
       "    <tr>\n",
       "      <th>1</th>\n",
       "      <td>1462</td>\n",
       "      <td>122920.740244</td>\n",
       "    </tr>\n",
       "    <tr>\n",
       "      <th>2</th>\n",
       "      <td>1463</td>\n",
       "      <td>175704.825981</td>\n",
       "    </tr>\n",
       "    <tr>\n",
       "      <th>3</th>\n",
       "      <td>1464</td>\n",
       "      <td>200050.832638</td>\n",
       "    </tr>\n",
       "    <tr>\n",
       "      <th>4</th>\n",
       "      <td>1465</td>\n",
       "      <td>182075.469864</td>\n",
       "    </tr>\n",
       "  </tbody>\n",
       "</table>\n",
       "</div>"
      ],
      "text/plain": [
       "     Id      SalePrice\n",
       "0  1461  128959.491726\n",
       "1  1462  122920.740244\n",
       "2  1463  175704.825981\n",
       "3  1464  200050.832638\n",
       "4  1465  182075.469864"
      ]
     },
     "execution_count": 41,
     "metadata": {},
     "output_type": "execute_result"
    }
   ],
   "source": [
    "try1['SalePrice'] = final_predictions\n",
    "try1.head()"
   ]
  },
  {
   "cell_type": "code",
   "execution_count": 42,
   "id": "ef7fea52",
   "metadata": {
    "execution": {
     "iopub.execute_input": "2021-09-06T20:35:07.142635Z",
     "iopub.status.busy": "2021-09-06T20:35:07.142020Z",
     "iopub.status.idle": "2021-09-06T20:35:07.151950Z",
     "shell.execute_reply": "2021-09-06T20:35:07.152412Z",
     "shell.execute_reply.started": "2021-09-06T20:33:51.582457Z"
    },
    "papermill": {
     "duration": 0.049432,
     "end_time": "2021-09-06T20:35:07.152573",
     "exception": false,
     "start_time": "2021-09-06T20:35:07.103141",
     "status": "completed"
    },
    "tags": []
   },
   "outputs": [],
   "source": [
    "try1.to_csv('submission1.csv', index=False)"
   ]
  },
  {
   "cell_type": "code",
   "execution_count": null,
   "id": "8ab37c97",
   "metadata": {
    "papermill": {
     "duration": 0.036267,
     "end_time": "2021-09-06T20:35:07.225492",
     "exception": false,
     "start_time": "2021-09-06T20:35:07.189225",
     "status": "completed"
    },
    "tags": []
   },
   "outputs": [],
   "source": []
  }
 ],
 "metadata": {
  "kernelspec": {
   "display_name": "Python 3",
   "language": "python",
   "name": "python3"
  },
  "language_info": {
   "codemirror_mode": {
    "name": "ipython",
    "version": 3
   },
   "file_extension": ".py",
   "mimetype": "text/x-python",
   "name": "python",
   "nbconvert_exporter": "python",
   "pygments_lexer": "ipython3",
   "version": "3.7.10"
  },
  "papermill": {
   "default_parameters": {},
   "duration": 14.781678,
   "end_time": "2021-09-06T20:35:08.921285",
   "environment_variables": {},
   "exception": null,
   "input_path": "__notebook__.ipynb",
   "output_path": "__notebook__.ipynb",
   "parameters": {},
   "start_time": "2021-09-06T20:34:54.139607",
   "version": "2.3.3"
  }
 },
 "nbformat": 4,
 "nbformat_minor": 5
}
